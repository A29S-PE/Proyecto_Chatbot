{
 "cells": [
  {
   "cell_type": "code",
   "execution_count": null,
   "id": "6d1ca5b6",
   "metadata": {},
   "outputs": [],
   "source": [
    "import condacolab\n",
    "condacolab.install()"
   ]
  },
  {
   "cell_type": "code",
   "execution_count": null,
   "id": "0e7dfe93",
   "metadata": {},
   "outputs": [],
   "source": [
    "!conda create --name myenv python=3.10"
   ]
  },
  {
   "cell_type": "code",
   "execution_count": null,
   "id": "3136d687",
   "metadata": {},
   "outputs": [],
   "source": [
    "%%shell\n",
    "eval \"$(conda shell.bash hook)\"\n",
    "conda activate myenv\n",
    "python3"
   ]
  },
  {
   "cell_type": "code",
   "execution_count": null,
   "id": "9596762f",
   "metadata": {},
   "outputs": [],
   "source": [
    "%%shell\n",
    "eval \"$(conda shell.bash hook)\"\n",
    "conda activate myenv\n",
    "python3 -m pip install rasa==3.6.21 rasa[spacy]==3.6.21"
   ]
  },
  {
   "cell_type": "code",
   "execution_count": null,
   "id": "d1c139f7",
   "metadata": {},
   "outputs": [],
   "source": [
    "%mkdir -p model_trained"
   ]
  },
  {
   "cell_type": "code",
   "execution_count": null,
   "id": "66dd1fd2",
   "metadata": {},
   "outputs": [],
   "source": [
    "%rm -rf model_tested"
   ]
  },
  {
   "cell_type": "code",
   "execution_count": null,
   "id": "94897a21",
   "metadata": {},
   "outputs": [],
   "source": [
    "%ls"
   ]
  },
  {
   "cell_type": "code",
   "execution_count": null,
   "id": "72c9ffde",
   "metadata": {},
   "outputs": [],
   "source": [
    "%%shell\n",
    "eval \"$(conda shell.bash hook)\"\n",
    "conda activate myenv\n",
    "nohup rasa run -m model_trained/nlu-20250321-062902-glad-store.tar.gz --enable-api --cors \"*\" --debug &"
   ]
  }
 ],
 "metadata": {
  "kernelspec": {
   "display_name": "Chatbot_venv",
   "language": "python",
   "name": "python3"
  },
  "language_info": {
   "name": "python",
   "version": "3.9.13"
  }
 },
 "nbformat": 4,
 "nbformat_minor": 5
}
